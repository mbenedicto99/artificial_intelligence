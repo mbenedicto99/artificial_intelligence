{
  "nbformat": 4,
  "nbformat_minor": 0,
  "metadata": {
    "colab": {
      "provenance": [],
      "include_colab_link": true
    },
    "kernelspec": {
      "name": "python3",
      "display_name": "Python 3"
    }
  },
  "cells": [
    {
      "cell_type": "markdown",
      "metadata": {
        "id": "view-in-github",
        "colab_type": "text"
      },
      "source": [
        "<a href=\"https://colab.research.google.com/github/mbenedicto99/artificial_intelligence/blob/master/BENE_PECE_AI_Python_2025_Exercicios_oo_1.ipynb\" target=\"_parent\"><img src=\"https://colab.research.google.com/assets/colab-badge.svg\" alt=\"Open In Colab\"/></a>"
      ]
    },
    {
      "cell_type": "markdown",
      "metadata": {
        "id": "EzztbdQ_7QVn"
      },
      "source": [
        "# Exercícios em Python 2: Orientação a Objetos\n",
        "\n",
        "\n",
        "\n",
        "\n",
        "Neste exercício trabalharemos com aspectos da linguagem Python voltados à orientação a objeto."
      ]
    },
    {
      "cell_type": "markdown",
      "metadata": {
        "id": "u7BDz8O1qaMd"
      },
      "source": [
        "## Preparando o ambiente\n",
        "\n",
        "Este notebook usa códigos no pacote ceai_python_aula04.py.\n",
        "Verifique se o seu google drive contém a pasta cursoai_python_aula_04.\n",
        "\n",
        "Em seguida execute o código a seguir."
      ]
    },
    {
      "cell_type": "code",
      "metadata": {
        "id": "wo0Ow_IdVgtZ",
        "colab": {
          "base_uri": "https://localhost:8080/"
        },
        "outputId": "cd82d9ec-24a4-4ca9-a0c2-b73ad9d8e28d"
      },
      "source": [
        "!git clone https://github.com/Dr-Zero/curso_ai_python.git\n",
        "import sys\n",
        "sys.path.append('curso_ai_python')"
      ],
      "execution_count": 1,
      "outputs": [
        {
          "output_type": "stream",
          "name": "stdout",
          "text": [
            "Cloning into 'curso_ai_python'...\n",
            "remote: Enumerating objects: 76, done.\u001b[K\n",
            "remote: Counting objects: 100% (76/76), done.\u001b[K\n",
            "remote: Compressing objects: 100% (38/38), done.\u001b[K\n",
            "remote: Total 76 (delta 35), reused 76 (delta 35), pack-reused 0 (from 0)\u001b[K\n",
            "Receiving objects: 100% (76/76), 26.65 KiB | 6.66 MiB/s, done.\n",
            "Resolving deltas: 100% (35/35), done.\n"
          ]
        }
      ]
    },
    {
      "cell_type": "markdown",
      "metadata": {
        "id": "Rou0RcBHC-Z3"
      },
      "source": [
        "Se o bloco acima foi executado corretamente, importe os símbolos com a linha seguinte:"
      ]
    },
    {
      "cell_type": "code",
      "metadata": {
        "id": "r9Q1G0SXu-Ir",
        "colab": {
          "base_uri": "https://localhost:8080/"
        },
        "outputId": "12d35376-2d8e-4053-dc34-f853ea2095c4"
      },
      "source": [
        "import ceai_python_aula04\n",
        "from ceai_python_aula04 import ClasseExemplo_01"
      ],
      "execution_count": 2,
      "outputs": [
        {
          "output_type": "stream",
          "name": "stdout",
          "text": [
            "Ambiente inicializado com sucesso\n"
          ]
        }
      ]
    },
    {
      "cell_type": "markdown",
      "metadata": {
        "id": "c9yjgYOO8aAd"
      },
      "source": [
        "# 1. Criação de instâncias de classes\n",
        "\n",
        "Em Python uma *instância* é um objeto criado a partir de uma classe e herda desta funções que ficam diretamente vinculados a ele (tornando-se então *métodos*).\n",
        "\n",
        "Estas instâncias são criadas invocando-se o nome da classe como se este fosse uma função.\n",
        "\n",
        "Por exemplo, seja a classe:\n",
        "```\n",
        "class ClasseExemplo_01:\n",
        "  def atribui_valor(self, x):\n",
        "    self._valor = x\n",
        "\n",
        "  def recupera_valor(self):\n",
        "    return self._valor\n",
        "```\n",
        "\n",
        "Um novo objeto desta classe (declarada no módulo acima) é criado com o código\n",
        "```\n",
        "ClasseExemplo_01()\n",
        "```\n",
        "## Exercício 1.1\n",
        "Inicialize a variável `a` com um novo objeto da classe `ClasseExemplo_01`\n"
      ]
    },
    {
      "cell_type": "code",
      "metadata": {
        "id": "EYrZjy887a4F"
      },
      "source": [
        "a = ClasseExemplo_01()"
      ],
      "execution_count": 9,
      "outputs": []
    },
    {
      "cell_type": "markdown",
      "metadata": {
        "id": "h8tTUeY-e8KH"
      },
      "source": [
        "Teste sua resposta:"
      ]
    },
    {
      "cell_type": "code",
      "metadata": {
        "id": "KFpTeA8Ue9RD",
        "colab": {
          "base_uri": "https://localhost:8080/",
          "height": 42
        },
        "outputId": "3d1d0e50-74b8-42fa-ea7a-a734e88ed74a"
      },
      "source": [
        "ceai_python_aula04.valida_ex_01_01(a)"
      ],
      "execution_count": 10,
      "outputs": [
        {
          "output_type": "execute_result",
          "data": {
            "text/plain": [
              "<ceai_python_aula04.SolucaoResultado at 0x7ea5d6de7710>"
            ],
            "text/html": [
              "<div style=\"border-style:solid;border-color:green\">Exercício Correto!</div>"
            ]
          },
          "metadata": {},
          "execution_count": 10
        }
      ]
    },
    {
      "cell_type": "markdown",
      "metadata": {
        "id": "wxk0WlgC7hVa"
      },
      "source": [
        "# 2 Chamada a métodos\n",
        "\n",
        "Um objeto instância tem vinculado a si as funções declaradas no corpo de sua classe.\n",
        "A estas funções vinculadas é dado o nome de *métodos*.\n",
        "Esta vinculação é feita de modo que o *primeiro* parâmetro de cada função recebe automaticamente uma referência para o objeto.\n",
        "\n",
        "Na classe exemplo acima, há dois métodos, `atribui_valor` e `recupera_valor`.\n",
        "Estes métodos modificam o conteúdo da referência `_valor` contida em cada instância.\n",
        "\n",
        "O exemplo a seguir cria um objeto da classe `ClasseExemplo_01` e atribui 10 ao atributo `_valor`."
      ]
    },
    {
      "cell_type": "code",
      "metadata": {
        "id": "HP2r-UpSJazh",
        "colab": {
          "base_uri": "https://localhost:8080/",
          "height": 34
        },
        "outputId": "f8171eb6-e406-4721-932c-a3773138f962"
      },
      "source": [
        "a = ClasseExemplo_01()\n",
        "a.atribui_valor(10)\n",
        "print(a.recupera_valor())"
      ],
      "execution_count": null,
      "outputs": [
        {
          "output_type": "stream",
          "text": [
            "10\n"
          ],
          "name": "stdout"
        }
      ]
    },
    {
      "cell_type": "markdown",
      "metadata": {
        "id": "gzL3fOpJTcd7"
      },
      "source": [
        "Note que o código acima *jamais* acessa diretamente o atributo `_valor`.\n",
        "Existe uma convenção em python de que atributos (inclusive métodos) iniciados pelo caractere `_` jamais devem referenciados por código que está fora das classes dos objetos que os contém.\n",
        "\n",
        "## Exercício 2.1\n",
        "Escreva em Python uma função que recebe um objeto com os métodos da classe `ClasseExemplo_01` e *dobra* o valor nele armazenado ."
      ]
    },
    {
      "cell_type": "code",
      "metadata": {
        "id": "cg-ChQz4TeQ2"
      },
      "source": [
        "def dobra_valor(a):\n",
        "  \"\"\" Dobra o valor armazenado em a\"\"\"\n",
        "  # Insira seu código aqui\n",
        "  valor = a.recupera_valor()  # Obtém o valor armazenado\n",
        "  a.atribui_valor(valor * 2)  # Dobra o valor e armazena novamente"
      ],
      "execution_count": 19,
      "outputs": []
    },
    {
      "cell_type": "markdown",
      "metadata": {
        "id": "ZfjprVLSD70_"
      },
      "source": [
        "Teste a sua resposta:"
      ]
    },
    {
      "cell_type": "code",
      "metadata": {
        "id": "XGKhduI4D-Dj",
        "colab": {
          "base_uri": "https://localhost:8080/",
          "height": 42
        },
        "outputId": "2dce8675-8e75-4e0d-ad54-35f36e391c3a"
      },
      "source": [
        "ceai_python_aula04.valida_ex_02_01(dobra_valor)"
      ],
      "execution_count": 20,
      "outputs": [
        {
          "output_type": "execute_result",
          "data": {
            "text/plain": [
              "<ceai_python_aula04.SolucaoResultado at 0x7ea5d65c6d90>"
            ],
            "text/html": [
              "<div style=\"border-style:solid;border-color:green\">Exercício Correto!</div>"
            ]
          },
          "metadata": {},
          "execution_count": 20
        }
      ]
    },
    {
      "cell_type": "markdown",
      "metadata": {
        "id": "RMi_z5lV-rSe"
      },
      "source": [
        "# 3 Declaração de classes\n",
        "\n",
        "# 3.1 Corpo da classe\n",
        "Uma classe, como no exemplo acima, é declarada da seguinte forma:\n",
        "\n",
        "```\n",
        "class Classe():\n",
        "   # Corpo da classe\n",
        "```\n",
        "Todos os símbolos (variáveis e funções) declarados *dentro* do corpo da classe ficam restritos ao seu escopo.\n",
        "\n",
        "Por exemplo:"
      ]
    },
    {
      "cell_type": "code",
      "metadata": {
        "id": "SJmBkBgjLK5C",
        "colab": {
          "base_uri": "https://localhost:8080/"
        },
        "outputId": "6aba00ba-16b3-4aa5-e5a4-a57e582ebf76"
      },
      "source": [
        "mensagem = \"Olá\"\n",
        "def saudacao():\n",
        "  print(mensagem)\n",
        "\n",
        "class Classe():\n",
        "  mensagem = \"Adeus\"\n",
        "  @classmethod\n",
        "  def saudacao(cls):\n",
        "    print(cls.mensagem)\n",
        "\n",
        "saudacao()\n",
        "Classe.saudacao()"
      ],
      "execution_count": 21,
      "outputs": [
        {
          "output_type": "stream",
          "name": "stdout",
          "text": [
            "Olá\n",
            "Adeus\n"
          ]
        }
      ]
    },
    {
      "cell_type": "markdown",
      "source": [
        "Note que o método ```saudacao``` está marcado com o decorador ```@classmethod```.\n",
        "Este decorador indica ao *runtime* da linguagem Python que este método não está vinculado a nenhum objeto em particular da classe ```Classe``` e age diretamente sobre ela mesma.\n",
        "\n",
        "Nós veremos mais sobre decoradores mais adiante no curso.\n",
        "Por hora pense nele como um indicador de algum atributo especial para o método ```saudacao```.\n",
        "\n",
        "O parâmetro ```cls``` dentro do método recebe uma referência ao objeto que representa a classe ```Classe```.\n",
        "Note que este atributo é automaticamente vinculado à classe, de modo que na chamada em ```Classe.saudacao()``` nenhum parâmetro é passado explicitamente."
      ],
      "metadata": {
        "id": "Sd5YH5iVd-56"
      }
    },
    {
      "cell_type": "markdown",
      "metadata": {
        "id": "FnLg-RmjNnP-"
      },
      "source": [
        "# Exercício 3.1.1\n",
        "\n",
        "Declare uma classe com o atributo `numero` contendo inicialmente valor 0. A classe também deve conter a função `funcao_1`, que retorna o valor armazenado em `numero` e `funcao_2`, que reseta o valor em `numero` para zero.\n",
        "\n",
        "*Atenção*: Os atributos e funções declaradas devem ser, como no exemplo acima, atributos e funções *de classe*, e não atrelados a algum objeto específico!"
      ]
    },
    {
      "cell_type": "code",
      "metadata": {
        "id": "zolW7K0zN3a-"
      },
      "source": [
        "class MinhaClasse():\n",
        "  # Insira seu código aqui\n",
        "  numero = 0\n",
        "\n",
        "  @classmethod\n",
        "  def funcao_1(cls):\n",
        "    return cls.numero\n",
        "\n",
        "  @classmethod\n",
        "  def funcao_2(cls):\n",
        "    cls.numero = 0"
      ],
      "execution_count": 25,
      "outputs": []
    },
    {
      "cell_type": "markdown",
      "metadata": {
        "id": "u2PI-q2WOByo"
      },
      "source": [
        "Teste a sua resposta:"
      ]
    },
    {
      "cell_type": "code",
      "metadata": {
        "id": "ekVKzH_pOFGT",
        "colab": {
          "base_uri": "https://localhost:8080/",
          "height": 42
        },
        "outputId": "83800f39-cae6-437f-85ed-865ff5cd8a7d"
      },
      "source": [
        "ceai_python_aula04.valida_ex_03_01(MinhaClasse)"
      ],
      "execution_count": 26,
      "outputs": [
        {
          "output_type": "execute_result",
          "data": {
            "text/plain": [
              "<ceai_python_aula04.SolucaoResultado at 0x7ea5e900ed10>"
            ],
            "text/html": [
              "<div style=\"border-style:solid;border-color:green\">Exercício Correto!</div>"
            ]
          },
          "metadata": {},
          "execution_count": 26
        }
      ]
    },
    {
      "cell_type": "markdown",
      "metadata": {
        "id": "CC9d64jmL2bq"
      },
      "source": [
        "## 3.2 Inicialização de objetos de instância\n",
        "Note que no exemplo acima, a própria classe é tratada como um Objeto!\n",
        "O uso mais comum de classes, no entanto, é o de criação de *objetos de instância*.\n",
        "\n",
        "Estes objetos, como vistos na seção 1, são criados chamando-se o nome da classe como na chamada de uma função.\n",
        "\n",
        "É possível especificar um código especial executado quando o objeto de instância é criado, através da definição do método `__init__` (note como este nome *inicia-se* e *termina* por \"`__`\".\n",
        "Isso significa que este método, além de não dever ser referenciado diretamente, é um método *especial* para Python, ao qual o interpretador dá um significado específico.\n",
        "\n",
        "A sintaxe de uma classe que define um método de inicialização é a seguinte:\n",
        "\n",
        "```\n",
        "class Classe():\n",
        "  def __init__(self, parametro1, parametro2...):\n",
        "    # Código de inicialização.\n",
        "    # Neste ponto, self é uma referência ao objeto sendo criado\n",
        "```\n",
        "\n",
        "Neste caso, o objeto de instância é criado com `Classe(parametro1, parametro2...)` com tantos parâmetros quando os que se seguem a `self` na definição de `__init__`.\n",
        "Como em outros métodos, `self` recebe a referência ao objeto de instância (que neste caso está sendo criado).\n",
        "\n"
      ]
    },
    {
      "cell_type": "markdown",
      "source": [
        "## Exercício 3.2.1\n",
        "Declare uma classe que armazena em seu objeto de instância um valor durante a inicialização.\n",
        "Este valor será passado como 2o parâmetro da função `__init__` (como visto, o 1o parâmetro é o próprio objeto sendo construído).\n",
        "\n",
        "Esta classe deve declarar um método `recupera_valor` que torna-se um *método de instância* (então você *não* deve marcá-lo com o decorador `@classmethod`). Este método deve retornar o valor que foi armazenado durante a criação do objeto."
      ],
      "metadata": {
        "id": "hYanUE_uePiH"
      }
    },
    {
      "cell_type": "code",
      "metadata": {
        "id": "ZoTx_Au6szC7"
      },
      "source": [
        "class MinhaNovaClasse():\n",
        "  # Insira o código aqui\n",
        "  def __init__ (self, valor):\n",
        "    self.valor = valor\n",
        "\n",
        "  def recupera_valor(self):\n",
        "    return self.valor"
      ],
      "execution_count": 39,
      "outputs": []
    },
    {
      "cell_type": "markdown",
      "metadata": {
        "id": "bSn8AO7TTjhW"
      },
      "source": [
        "Teste sua resposta:"
      ]
    },
    {
      "cell_type": "code",
      "metadata": {
        "id": "bVj-XqM_TnQu",
        "colab": {
          "base_uri": "https://localhost:8080/",
          "height": 42
        },
        "outputId": "496734ab-1b3d-4903-c169-91356f5a802e"
      },
      "source": [
        "ceai_python_aula04.valida_ex_03_02_01(MinhaNovaClasse)"
      ],
      "execution_count": 40,
      "outputs": [
        {
          "output_type": "execute_result",
          "data": {
            "text/plain": [
              "<ceai_python_aula04.SolucaoResultado at 0x7ea5d65fb250>"
            ],
            "text/html": [
              "<div style=\"border-style:solid;border-color:green\">Exercício Correto!</div>"
            ]
          },
          "metadata": {},
          "execution_count": 40
        }
      ]
    },
    {
      "cell_type": "markdown",
      "metadata": {
        "id": "-V9V5HeStrQh"
      },
      "source": [
        "# 3.3 Herança\n",
        "\n",
        "\n",
        "É possível escrever uma classe que *extende* o funcionamento de outra classe preexistente.\n",
        "\n",
        "Note que a nova classe e suas instâncias herdarão o comportamento da classe base.\n",
        "Espera-se da nova classe que *mantenha* este funcionamento da classe base em adição às novas funções.\n",
        "\n",
        "A sintaxe para tal extensão é:\n",
        "```\n",
        "class ClasseFilha(ClasseMae):\n",
        "  # novos elementos\n",
        "```\n",
        "\n",
        "## Exercício 3.3.1\n",
        "Extenda a classe `MinhaNovaClasse` definida no exercício 3.2.1.\n",
        "\n",
        "A nova classe deve ser chamada de `MinhaClasseFilha` e deve ser derivada de `MinhaNovaClasse`.\n",
        "\n",
        "A nova classe deve possuir o método *de instância* `modifica_valor`. Este método recebe um parâmetro e atribuir este parâmetro ao valor armazenado no objeto, de modo que o código a seguir:\n",
        "\n",
        "```\n",
        "a = MinhaClasseFilha(10)\n",
        "a.modifica_valor(20)\n",
        "print(a.recupera_valor)\n",
        "```\n",
        "mostra `20`.\n"
      ]
    },
    {
      "cell_type": "code",
      "metadata": {
        "id": "Yrd9Eonavl4s"
      },
      "source": [
        "class MinhaNovaClasse:\n",
        "    def __init__(self, valor):\n",
        "        self.valor = valor  # Armazena o valor passado na criação do objeto\n",
        "\n",
        "    def recupera_valor(self):\n",
        "        return self.valor  # Retorna o valor armazenado\n",
        "\n",
        "\n",
        "# Criando a nova classe que herda de MinhaNovaClasse\n",
        "class MinhaClasseFilha(MinhaNovaClasse):\n",
        "  # Insira seu código aqui\n",
        "    def modifica_valor(self, novo_valor):\n",
        "        self.valor = novo_valor  # Modifica o valor armazenado"
      ],
      "execution_count": 43,
      "outputs": []
    },
    {
      "cell_type": "markdown",
      "metadata": {
        "id": "NGI8ZB2LTsbw"
      },
      "source": [
        "Teste sua resposta:"
      ]
    },
    {
      "cell_type": "code",
      "metadata": {
        "id": "r8YcQ4yRTuA5",
        "colab": {
          "base_uri": "https://localhost:8080/",
          "height": 42
        },
        "outputId": "b07d6ca8-24e0-43ee-9df6-8a8eef862d33"
      },
      "source": [
        "ceai_python_aula04.valida_ex_03_03_01(MinhaClasseFilha, MinhaNovaClasse)"
      ],
      "execution_count": 44,
      "outputs": [
        {
          "output_type": "execute_result",
          "data": {
            "text/plain": [
              "<ceai_python_aula04.SolucaoResultado at 0x7ea5d65cb750>"
            ],
            "text/html": [
              "<div style=\"border-style:solid;border-color:green\">Exercício Correto!</div>"
            ]
          },
          "metadata": {},
          "execution_count": 44
        }
      ]
    },
    {
      "cell_type": "markdown",
      "metadata": {
        "id": "ulSVX8vyvs8A"
      },
      "source": [
        "## 3.4 Sobreposição de métodos\n",
        "\n",
        "Quando dentro do corpo da nova classe é declarado um atributo cujo nome *coincide* com um atributo preexistente na classe base, o atributo preexistente é *sobreposto*.\n",
        "Neste caso, o nome quando acessado pela nova classe e pelas suas instâncias será referente ao novo atributo.\n",
        "\n",
        "Dentro de um método, a função super() permite obter uma referência ao próprio objeto como se este fosse uma instância da classe parente (permitindo assim acessar os métodos que foram sobrepostos).\n",
        "Exemplo:"
      ]
    },
    {
      "cell_type": "code",
      "metadata": {
        "id": "RwJyVzxtnsES",
        "colab": {
          "base_uri": "https://localhost:8080/",
          "height": 52
        },
        "outputId": "0f88a0f5-9dc9-4e21-c7ba-663dc484924a"
      },
      "source": [
        "class Saudacao():\n",
        "  def msg(self):\n",
        "    print(\"Olá\")\n",
        "\n",
        "class Despedida(Saudacao):\n",
        "  def msg(self):\n",
        "    super().msg()\n",
        "    print(\"adeus\")\n",
        "\n",
        "a = Despedida()\n",
        "a.msg()"
      ],
      "execution_count": null,
      "outputs": [
        {
          "output_type": "stream",
          "text": [
            "Olá\n",
            "adeus\n"
          ],
          "name": "stdout"
        }
      ]
    },
    {
      "cell_type": "markdown",
      "metadata": {
        "id": "RyxoQ5_xorjl"
      },
      "source": [
        "### Exercício 3.4.1\n",
        "\n",
        "Extenda a sua classe do exercício anterior de modo a dar aos objetos criados um método `undo()`\n",
        "\n",
        "Este método deve *reverter* a última (e somente esta, não se preocupe em armazenar operações mais antigas) operação  de `modifica_valor`.\n",
        "Para tanto você deve criar um novo método e *sobrepor* o método `modifica_valor` da classe anterior.\n"
      ]
    },
    {
      "cell_type": "code",
      "metadata": {
        "id": "Fpv90MY8xAhw"
      },
      "source": [
        "class ClasseComUndo(MinhaClasseFilha):\n",
        "  # Insira seu código aqui\n",
        "  pass"
      ],
      "execution_count": null,
      "outputs": []
    },
    {
      "cell_type": "markdown",
      "metadata": {
        "id": "VXBIIYH3elMa"
      },
      "source": [
        "Teste sua resposta:"
      ]
    },
    {
      "cell_type": "code",
      "metadata": {
        "id": "YmFLR8ueeml0"
      },
      "source": [
        "ceai_python_aula04.valida_ex_03_04_01(ClasseComUndo, MinhaClasseFilha)"
      ],
      "execution_count": null,
      "outputs": []
    }
  ]
}